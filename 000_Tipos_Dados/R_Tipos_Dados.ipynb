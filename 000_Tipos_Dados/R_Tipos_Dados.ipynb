{
 "cells": [
  {
   "cell_type": "code",
   "execution_count": 1,
   "id": "260f1e1b-1f19-4f92-952c-bf26a9b348c0",
   "metadata": {},
   "outputs": [],
   "source": [
    "library(readr)"
   ]
  },
  {
   "cell_type": "code",
   "execution_count": 2,
   "id": "5a156f99-ede0-4da6-b19e-579278eb6e0c",
   "metadata": {},
   "outputs": [
    {
     "name": "stderr",
     "output_type": "stream",
     "text": [
      "\u001b[1mRows: \u001b[22m\u001b[34m5\u001b[39m \u001b[1mColumns: \u001b[22m\u001b[34m5\u001b[39m\n",
      "\u001b[36m──\u001b[39m \u001b[1mColumn specification\u001b[22m \u001b[36m────────────────────────────────────────────────────────────────────────────────────────────────────────────────────────────────────────────────────────────────────\u001b[39m\n",
      "\u001b[1mDelimiter:\u001b[22m \",\"\n",
      "\u001b[31mchr\u001b[39m (2): Nome, Tipo de Usuário\n",
      "\u001b[32mdbl\u001b[39m (3): Idade, Ticket Médio, Idade da Conta\n",
      "\n",
      "\u001b[36mℹ\u001b[39m Use `spec()` to retrieve the full column specification for this data.\n",
      "\u001b[36mℹ\u001b[39m Specify the column types or set `show_col_types = FALSE` to quiet this message.\n"
     ]
    }
   ],
   "source": [
    "dados <- read_csv(\"dataset000.csv\")"
   ]
  },
  {
   "cell_type": "code",
   "execution_count": 3,
   "id": "86f8daa2-1a78-442b-9410-5bd3b9f17830",
   "metadata": {},
   "outputs": [
    {
     "name": "stdout",
     "output_type": "stream",
     "text": [
      "spc_tbl_ [5 × 5] (S3: spec_tbl_df/tbl_df/tbl/data.frame)\n",
      " $ Nome           : chr [1:5] \"João\" \"Maria\" \"Pedro\" \"Ana\" ...\n",
      " $ Idade          : num [1:5] 28 35 22 45 29\n",
      " $ Tipo de Usuário: chr [1:5] \"Premium\" \"Free\" \"Free\" \"Premium\" ...\n",
      " $ Ticket Médio   : num [1:5] 150.5 45.2 30 200.8 40.8\n",
      " $ Idade da Conta : num [1:5] 3 2 1 5 2\n",
      " - attr(*, \"spec\")=\n",
      "  .. cols(\n",
      "  ..   Nome = \u001b[31mcol_character()\u001b[39m,\n",
      "  ..   Idade = \u001b[32mcol_double()\u001b[39m,\n",
      "  ..   `Tipo de Usuário` = \u001b[31mcol_character()\u001b[39m,\n",
      "  ..   `Ticket Médio` = \u001b[32mcol_double()\u001b[39m,\n",
      "  ..   `Idade da Conta` = \u001b[32mcol_double()\u001b[39m\n",
      "  .. )\n",
      " - attr(*, \"problems\")=<externalptr> \n"
     ]
    }
   ],
   "source": [
    "str(dados)"
   ]
  },
  {
   "cell_type": "code",
   "execution_count": 4,
   "id": "7836a333-4137-4a71-80f0-f8df44346b29",
   "metadata": {},
   "outputs": [],
   "source": [
    "dados$`Tipo de Usuário` <- as.factor(dados$`Tipo de Usuário`)"
   ]
  },
  {
   "cell_type": "code",
   "execution_count": 5,
   "id": "1cc2be30-cd51-458c-b987-6f72952bc3a6",
   "metadata": {},
   "outputs": [
    {
     "name": "stdout",
     "output_type": "stream",
     "text": [
      "spc_tbl_ [5 × 5] (S3: spec_tbl_df/tbl_df/tbl/data.frame)\n",
      " $ Nome           : chr [1:5] \"João\" \"Maria\" \"Pedro\" \"Ana\" ...\n",
      " $ Idade          : num [1:5] 28 35 22 45 29\n",
      " $ Tipo de Usuário: Factor w/ 2 levels \"Free\",\"Premium\": 2 1 1 2 1\n",
      " $ Ticket Médio   : num [1:5] 150.5 45.2 30 200.8 40.8\n",
      " $ Idade da Conta : num [1:5] 3 2 1 5 2\n",
      " - attr(*, \"spec\")=\n",
      "  .. cols(\n",
      "  ..   Nome = \u001b[31mcol_character()\u001b[39m,\n",
      "  ..   Idade = \u001b[32mcol_double()\u001b[39m,\n",
      "  ..   `Tipo de Usuário` = \u001b[31mcol_character()\u001b[39m,\n",
      "  ..   `Ticket Médio` = \u001b[32mcol_double()\u001b[39m,\n",
      "  ..   `Idade da Conta` = \u001b[32mcol_double()\u001b[39m\n",
      "  .. )\n",
      " - attr(*, \"problems\")=<externalptr> \n"
     ]
    }
   ],
   "source": [
    "str(dados)"
   ]
  },
  {
   "cell_type": "code",
   "execution_count": null,
   "id": "1756a0e1-28b3-4439-8895-46406040ef14",
   "metadata": {},
   "outputs": [],
   "source": []
  }
 ],
 "metadata": {
  "kernelspec": {
   "display_name": "R",
   "language": "R",
   "name": "ir"
  },
  "language_info": {
   "codemirror_mode": "r",
   "file_extension": ".r",
   "mimetype": "text/x-r-source",
   "name": "R",
   "pygments_lexer": "r",
   "version": "4.3.1"
  }
 },
 "nbformat": 4,
 "nbformat_minor": 5
}
