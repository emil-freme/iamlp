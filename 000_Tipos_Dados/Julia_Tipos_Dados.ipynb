{
 "cells": [
  {
   "cell_type": "code",
   "execution_count": 1,
   "id": "a20e98ec-d0d2-45d9-a4be-6202717ad62d",
   "metadata": {},
   "outputs": [],
   "source": [
    "using CSV;\n",
    "using DataFrames;\n",
    "using CategoricalArrays"
   ]
  },
  {
   "cell_type": "code",
   "execution_count": 2,
   "id": "afff04bf-b600-424d-84d0-4a8e600772db",
   "metadata": {},
   "outputs": [
    {
     "data": {
      "text/html": [
       "<div><div style = \"float: left;\"><span>5×5 DataFrame</span></div><div style = \"clear: both;\"></div></div><div class = \"data-frame\" style = \"overflow-x: scroll;\"><table class = \"data-frame\" style = \"margin-bottom: 6px;\"><thead><tr class = \"header\"><th class = \"rowNumber\" style = \"font-weight: bold; text-align: right;\">Row</th><th style = \"text-align: left;\">Nome</th><th style = \"text-align: left;\">Idade</th><th style = \"text-align: left;\">Tipo de Usuário</th><th style = \"text-align: left;\">Ticket Médio</th><th style = \"text-align: left;\">Idade da Conta</th></tr><tr class = \"subheader headerLastRow\"><th class = \"rowNumber\" style = \"font-weight: bold; text-align: right;\"></th><th title = \"String7\" style = \"text-align: left;\">String7</th><th title = \"Int64\" style = \"text-align: left;\">Int64</th><th title = \"String7\" style = \"text-align: left;\">String7</th><th title = \"Float64\" style = \"text-align: left;\">Float64</th><th title = \"Int64\" style = \"text-align: left;\">Int64</th></tr></thead><tbody><tr><td class = \"rowNumber\" style = \"font-weight: bold; text-align: right;\">1</td><td style = \"text-align: left;\">João</td><td style = \"text-align: right;\">28</td><td style = \"text-align: left;\">Premium</td><td style = \"text-align: right;\">150.5</td><td style = \"text-align: right;\">3</td></tr><tr><td class = \"rowNumber\" style = \"font-weight: bold; text-align: right;\">2</td><td style = \"text-align: left;\">Maria</td><td style = \"text-align: right;\">35</td><td style = \"text-align: left;\">Free</td><td style = \"text-align: right;\">45.2</td><td style = \"text-align: right;\">2</td></tr><tr><td class = \"rowNumber\" style = \"font-weight: bold; text-align: right;\">3</td><td style = \"text-align: left;\">Pedro</td><td style = \"text-align: right;\">22</td><td style = \"text-align: left;\">Free</td><td style = \"text-align: right;\">30.0</td><td style = \"text-align: right;\">1</td></tr><tr><td class = \"rowNumber\" style = \"font-weight: bold; text-align: right;\">4</td><td style = \"text-align: left;\">Ana</td><td style = \"text-align: right;\">45</td><td style = \"text-align: left;\">Premium</td><td style = \"text-align: right;\">200.75</td><td style = \"text-align: right;\">5</td></tr><tr><td class = \"rowNumber\" style = \"font-weight: bold; text-align: right;\">5</td><td style = \"text-align: left;\">Lúcia</td><td style = \"text-align: right;\">29</td><td style = \"text-align: left;\">Free</td><td style = \"text-align: right;\">40.8</td><td style = \"text-align: right;\">2</td></tr></tbody></table></div>"
      ],
      "text/latex": [
       "\\begin{tabular}{r|ccccc}\n",
       "\t& Nome & Idade & Tipo de Usuário & Ticket Médio & Idade da Conta\\\\\n",
       "\t\\hline\n",
       "\t& String7 & Int64 & String7 & Float64 & Int64\\\\\n",
       "\t\\hline\n",
       "\t1 & João & 28 & Premium & 150.5 & 3 \\\\\n",
       "\t2 & Maria & 35 & Free & 45.2 & 2 \\\\\n",
       "\t3 & Pedro & 22 & Free & 30.0 & 1 \\\\\n",
       "\t4 & Ana & 45 & Premium & 200.75 & 5 \\\\\n",
       "\t5 & Lúcia & 29 & Free & 40.8 & 2 \\\\\n",
       "\\end{tabular}\n"
      ],
      "text/plain": [
       "\u001b[1m5×5 DataFrame\u001b[0m\n",
       "\u001b[1m Row \u001b[0m│\u001b[1m Nome    \u001b[0m\u001b[1m Idade \u001b[0m\u001b[1m Tipo de Usuário \u001b[0m\u001b[1m Ticket Médio \u001b[0m\u001b[1m Idade da Conta \u001b[0m\n",
       "     │\u001b[90m String7 \u001b[0m\u001b[90m Int64 \u001b[0m\u001b[90m String7         \u001b[0m\u001b[90m Float64      \u001b[0m\u001b[90m Int64          \u001b[0m\n",
       "─────┼───────────────────────────────────────────────────────────────\n",
       "   1 │ João        28  Premium                150.5                3\n",
       "   2 │ Maria       35  Free                    45.2                2\n",
       "   3 │ Pedro       22  Free                    30.0                1\n",
       "   4 │ Ana         45  Premium                200.75               5\n",
       "   5 │ Lúcia       29  Free                    40.8                2"
      ]
     },
     "execution_count": 2,
     "metadata": {},
     "output_type": "execute_result"
    }
   ],
   "source": [
    "dados = CSV.read(\"dataset000.csv\", DataFrame)"
   ]
  },
  {
   "cell_type": "code",
   "execution_count": 3,
   "id": "e6db50ad-33ad-496d-bdd1-d461e27a5028",
   "metadata": {},
   "outputs": [
    {
     "data": {
      "text/html": [
       "<div><div style = \"float: left;\"><span>5×7 DataFrame</span></div><div style = \"clear: both;\"></div></div><div class = \"data-frame\" style = \"overflow-x: scroll;\"><table class = \"data-frame\" style = \"margin-bottom: 6px;\"><thead><tr class = \"header\"><th class = \"rowNumber\" style = \"font-weight: bold; text-align: right;\">Row</th><th style = \"text-align: left;\">variable</th><th style = \"text-align: left;\">mean</th><th style = \"text-align: left;\">min</th><th style = \"text-align: left;\">median</th><th style = \"text-align: left;\">max</th><th style = \"text-align: left;\">nmissing</th><th style = \"text-align: left;\">eltype</th></tr><tr class = \"subheader headerLastRow\"><th class = \"rowNumber\" style = \"font-weight: bold; text-align: right;\"></th><th title = \"Symbol\" style = \"text-align: left;\">Symbol</th><th title = \"Union{Nothing, Float64}\" style = \"text-align: left;\">Union…</th><th title = \"Any\" style = \"text-align: left;\">Any</th><th title = \"Union{Nothing, Float64}\" style = \"text-align: left;\">Union…</th><th title = \"Any\" style = \"text-align: left;\">Any</th><th title = \"Int64\" style = \"text-align: left;\">Int64</th><th title = \"DataType\" style = \"text-align: left;\">DataType</th></tr></thead><tbody><tr><td class = \"rowNumber\" style = \"font-weight: bold; text-align: right;\">1</td><td style = \"text-align: left;\">Nome</td><td style = \"font-style: italic; text-align: left;\"></td><td style = \"text-align: left;\">Ana</td><td style = \"font-style: italic; text-align: left;\"></td><td style = \"text-align: left;\">Pedro</td><td style = \"text-align: right;\">0</td><td style = \"text-align: left;\">String7</td></tr><tr><td class = \"rowNumber\" style = \"font-weight: bold; text-align: right;\">2</td><td style = \"text-align: left;\">Idade</td><td style = \"text-align: left;\">31.8</td><td style = \"text-align: left;\">22</td><td style = \"text-align: left;\">29.0</td><td style = \"text-align: left;\">45</td><td style = \"text-align: right;\">0</td><td style = \"text-align: left;\">Int64</td></tr><tr><td class = \"rowNumber\" style = \"font-weight: bold; text-align: right;\">3</td><td style = \"text-align: left;\">Tipo de Usuário</td><td style = \"font-style: italic; text-align: left;\"></td><td style = \"text-align: left;\">Free</td><td style = \"font-style: italic; text-align: left;\"></td><td style = \"text-align: left;\">Premium</td><td style = \"text-align: right;\">0</td><td style = \"text-align: left;\">String7</td></tr><tr><td class = \"rowNumber\" style = \"font-weight: bold; text-align: right;\">4</td><td style = \"text-align: left;\">Ticket Médio</td><td style = \"text-align: left;\">93.45</td><td style = \"text-align: left;\">30.0</td><td style = \"text-align: left;\">45.2</td><td style = \"text-align: left;\">200.75</td><td style = \"text-align: right;\">0</td><td style = \"text-align: left;\">Float64</td></tr><tr><td class = \"rowNumber\" style = \"font-weight: bold; text-align: right;\">5</td><td style = \"text-align: left;\">Idade da Conta</td><td style = \"text-align: left;\">2.6</td><td style = \"text-align: left;\">1</td><td style = \"text-align: left;\">2.0</td><td style = \"text-align: left;\">5</td><td style = \"text-align: right;\">0</td><td style = \"text-align: left;\">Int64</td></tr></tbody></table></div>"
      ],
      "text/latex": [
       "\\begin{tabular}{r|ccccccc}\n",
       "\t& variable & mean & min & median & max & nmissing & eltype\\\\\n",
       "\t\\hline\n",
       "\t& Symbol & Union… & Any & Union… & Any & Int64 & DataType\\\\\n",
       "\t\\hline\n",
       "\t1 & Nome &  & Ana &  & Pedro & 0 & String7 \\\\\n",
       "\t2 & Idade & 31.8 & 22 & 29.0 & 45 & 0 & Int64 \\\\\n",
       "\t3 & Tipo de Usuário &  & Free &  & Premium & 0 & String7 \\\\\n",
       "\t4 & Ticket Médio & 93.45 & 30.0 & 45.2 & 200.75 & 0 & Float64 \\\\\n",
       "\t5 & Idade da Conta & 2.6 & 1 & 2.0 & 5 & 0 & Int64 \\\\\n",
       "\\end{tabular}\n"
      ],
      "text/plain": [
       "\u001b[1m5×7 DataFrame\u001b[0m\n",
       "\u001b[1m Row \u001b[0m│\u001b[1m variable        \u001b[0m\u001b[1m mean   \u001b[0m\u001b[1m min  \u001b[0m\u001b[1m median \u001b[0m\u001b[1m max     \u001b[0m\u001b[1m nmissing \u001b[0m\u001b[1m eltype   \u001b[0m\n",
       "     │\u001b[90m Symbol          \u001b[0m\u001b[90m Union… \u001b[0m\u001b[90m Any  \u001b[0m\u001b[90m Union… \u001b[0m\u001b[90m Any     \u001b[0m\u001b[90m Int64    \u001b[0m\u001b[90m DataType \u001b[0m\n",
       "─────┼────────────────────────────────────────────────────────────────────\n",
       "   1 │ Nome            \u001b[90m        \u001b[0m Ana  \u001b[90m        \u001b[0m Pedro           0  String7\n",
       "   2 │ Idade            31.8    22    29.0    45              0  Int64\n",
       "   3 │ Tipo de Usuário \u001b[90m        \u001b[0m Free \u001b[90m        \u001b[0m Premium         0  String7\n",
       "   4 │ Ticket Médio     93.45   30.0  45.2    200.75          0  Float64\n",
       "   5 │ Idade da Conta   2.6     1     2.0     5               0  Int64"
      ]
     },
     "execution_count": 3,
     "metadata": {},
     "output_type": "execute_result"
    }
   ],
   "source": [
    "describe(dados)"
   ]
  },
  {
   "cell_type": "code",
   "execution_count": 4,
   "id": "59e62581-b2cf-4c05-a9f9-bcac4d2f23ec",
   "metadata": {},
   "outputs": [
    {
     "data": {
      "text/plain": [
       "5-element CategoricalArray{String7,1,UInt32}:\n",
       " String7(\"Premium\")\n",
       " String7(\"Free\")\n",
       " String7(\"Free\")\n",
       " String7(\"Premium\")\n",
       " String7(\"Free\")"
      ]
     },
     "execution_count": 4,
     "metadata": {},
     "output_type": "execute_result"
    }
   ],
   "source": [
    "dados.\"Tipo de Usuário\" = categorical(dados.\"Tipo de Usuário\")"
   ]
  },
  {
   "cell_type": "code",
   "execution_count": 5,
   "id": "f7f5cf2d-dd4f-483b-84e0-5908528338e1",
   "metadata": {},
   "outputs": [
    {
     "data": {
      "text/html": [
       "<div><div style = \"float: left;\"><span>5×7 DataFrame</span></div><div style = \"clear: both;\"></div></div><div class = \"data-frame\" style = \"overflow-x: scroll;\"><table class = \"data-frame\" style = \"margin-bottom: 6px;\"><thead><tr class = \"header\"><th class = \"rowNumber\" style = \"font-weight: bold; text-align: right;\">Row</th><th style = \"text-align: left;\">variable</th><th style = \"text-align: left;\">mean</th><th style = \"text-align: left;\">min</th><th style = \"text-align: left;\">median</th><th style = \"text-align: left;\">max</th><th style = \"text-align: left;\">nmissing</th><th style = \"text-align: left;\">eltype</th></tr><tr class = \"subheader headerLastRow\"><th class = \"rowNumber\" style = \"font-weight: bold; text-align: right;\"></th><th title = \"Symbol\" style = \"text-align: left;\">Symbol</th><th title = \"Union{Nothing, Float64}\" style = \"text-align: left;\">Union…</th><th title = \"Any\" style = \"text-align: left;\">Any</th><th title = \"Union{Nothing, Float64}\" style = \"text-align: left;\">Union…</th><th title = \"Any\" style = \"text-align: left;\">Any</th><th title = \"Int64\" style = \"text-align: left;\">Int64</th><th title = \"DataType\" style = \"text-align: left;\">DataType</th></tr></thead><tbody><tr><td class = \"rowNumber\" style = \"font-weight: bold; text-align: right;\">1</td><td style = \"text-align: left;\">Nome</td><td style = \"font-style: italic; text-align: left;\"></td><td style = \"text-align: left;\">Ana</td><td style = \"font-style: italic; text-align: left;\"></td><td style = \"text-align: left;\">Pedro</td><td style = \"text-align: right;\">0</td><td style = \"text-align: left;\">String7</td></tr><tr><td class = \"rowNumber\" style = \"font-weight: bold; text-align: right;\">2</td><td style = \"text-align: left;\">Idade</td><td style = \"text-align: left;\">31.8</td><td style = \"text-align: left;\">22</td><td style = \"text-align: left;\">29.0</td><td style = \"text-align: left;\">45</td><td style = \"text-align: right;\">0</td><td style = \"text-align: left;\">Int64</td></tr><tr><td class = \"rowNumber\" style = \"font-weight: bold; text-align: right;\">3</td><td style = \"text-align: left;\">Tipo de Usuário</td><td style = \"font-style: italic; text-align: left;\"></td><td style = \"text-align: left;\">Free</td><td style = \"font-style: italic; text-align: left;\"></td><td style = \"text-align: left;\">Premium</td><td style = \"text-align: right;\">0</td><td style = \"text-align: left;\">CategoricalValue{String7, UInt32}</td></tr><tr><td class = \"rowNumber\" style = \"font-weight: bold; text-align: right;\">4</td><td style = \"text-align: left;\">Ticket Médio</td><td style = \"text-align: left;\">93.45</td><td style = \"text-align: left;\">30.0</td><td style = \"text-align: left;\">45.2</td><td style = \"text-align: left;\">200.75</td><td style = \"text-align: right;\">0</td><td style = \"text-align: left;\">Float64</td></tr><tr><td class = \"rowNumber\" style = \"font-weight: bold; text-align: right;\">5</td><td style = \"text-align: left;\">Idade da Conta</td><td style = \"text-align: left;\">2.6</td><td style = \"text-align: left;\">1</td><td style = \"text-align: left;\">2.0</td><td style = \"text-align: left;\">5</td><td style = \"text-align: right;\">0</td><td style = \"text-align: left;\">Int64</td></tr></tbody></table></div>"
      ],
      "text/latex": [
       "\\begin{tabular}{r|ccccccc}\n",
       "\t& variable & mean & min & median & max & nmissing & eltype\\\\\n",
       "\t\\hline\n",
       "\t& Symbol & Union… & Any & Union… & Any & Int64 & DataType\\\\\n",
       "\t\\hline\n",
       "\t1 & Nome &  & Ana &  & Pedro & 0 & String7 \\\\\n",
       "\t2 & Idade & 31.8 & 22 & 29.0 & 45 & 0 & Int64 \\\\\n",
       "\t3 & Tipo de Usuário &  & Free &  & Premium & 0 & CategoricalValue\\{String7, UInt32\\} \\\\\n",
       "\t4 & Ticket Médio & 93.45 & 30.0 & 45.2 & 200.75 & 0 & Float64 \\\\\n",
       "\t5 & Idade da Conta & 2.6 & 1 & 2.0 & 5 & 0 & Int64 \\\\\n",
       "\\end{tabular}\n"
      ],
      "text/plain": [
       "\u001b[1m5×7 DataFrame\u001b[0m\n",
       "\u001b[1m Row \u001b[0m│\u001b[1m variable        \u001b[0m\u001b[1m mean   \u001b[0m\u001b[1m min  \u001b[0m\u001b[1m median \u001b[0m\u001b[1m max     \u001b[0m\u001b[1m nmissing \u001b[0m\u001b[1m eltype       \u001b[0m ⋯\n",
       "     │\u001b[90m Symbol          \u001b[0m\u001b[90m Union… \u001b[0m\u001b[90m Any  \u001b[0m\u001b[90m Union… \u001b[0m\u001b[90m Any     \u001b[0m\u001b[90m Int64    \u001b[0m\u001b[90m DataType     \u001b[0m ⋯\n",
       "─────┼──────────────────────────────────────────────────────────────────────────\n",
       "   1 │ Nome            \u001b[90m        \u001b[0m Ana  \u001b[90m        \u001b[0m Pedro           0  String7       ⋯\n",
       "   2 │ Idade            31.8    22    29.0    45              0  Int64\n",
       "   3 │ Tipo de Usuário \u001b[90m        \u001b[0m Free \u001b[90m        \u001b[0m Premium         0  CategoricalVa\n",
       "   4 │ Ticket Médio     93.45   30.0  45.2    200.75          0  Float64\n",
       "   5 │ Idade da Conta   2.6     1     2.0     5               0  Int64         ⋯\n",
       "\u001b[36m                                                                1 column omitted\u001b[0m"
      ]
     },
     "execution_count": 5,
     "metadata": {},
     "output_type": "execute_result"
    }
   ],
   "source": [
    "describe(dados)"
   ]
  },
  {
   "cell_type": "code",
   "execution_count": 6,
   "id": "4bb9aa3c-225e-459f-8c9a-f693d3472720",
   "metadata": {},
   "outputs": [
    {
     "data": {
      "text/plain": [
       "2-element Vector{String7}:\n",
       " \"Free\"\n",
       " \"Premium\""
      ]
     },
     "execution_count": 6,
     "metadata": {},
     "output_type": "execute_result"
    }
   ],
   "source": [
    "levels(dados.\"Tipo de Usuário\")"
   ]
  },
  {
   "cell_type": "code",
   "execution_count": null,
   "id": "4fc0b771-4c81-4440-9c5e-eb4f38255e75",
   "metadata": {},
   "outputs": [],
   "source": []
  }
 ],
 "metadata": {
  "kernelspec": {
   "display_name": "Julia 1.9.3",
   "language": "julia",
   "name": "julia-1.9"
  },
  "language_info": {
   "file_extension": ".jl",
   "mimetype": "application/julia",
   "name": "julia",
   "version": "1.9.3"
  }
 },
 "nbformat": 4,
 "nbformat_minor": 5
}
