{
 "cells": [
  {
   "cell_type": "code",
   "execution_count": 1,
   "id": "788c1274-ea35-4041-a4f8-6e6adae2bc5a",
   "metadata": {},
   "outputs": [],
   "source": [
    "import pandas as pd"
   ]
  },
  {
   "cell_type": "code",
   "execution_count": 2,
   "id": "3b92e94a-1d84-452e-b849-3d336f20d1c8",
   "metadata": {},
   "outputs": [],
   "source": [
    "dados = pd.read_csv(\"dataset000.csv\")"
   ]
  },
  {
   "cell_type": "code",
   "execution_count": 3,
   "id": "27c27645-e076-444a-b769-2e25ad7b5fb3",
   "metadata": {},
   "outputs": [
    {
     "name": "stdout",
     "output_type": "stream",
     "text": [
      "<class 'pandas.core.frame.DataFrame'>\n",
      "RangeIndex: 5 entries, 0 to 4\n",
      "Data columns (total 5 columns):\n",
      " #   Column           Non-Null Count  Dtype  \n",
      "---  ------           --------------  -----  \n",
      " 0   Nome             5 non-null      object \n",
      " 1   Idade            5 non-null      int64  \n",
      " 2   Tipo de Usuário  5 non-null      object \n",
      " 3   Ticket Médio     5 non-null      float64\n",
      " 4   Idade da Conta   5 non-null      int64  \n",
      "dtypes: float64(1), int64(2), object(2)\n",
      "memory usage: 332.0+ bytes\n"
     ]
    }
   ],
   "source": [
    "dados.info()"
   ]
  },
  {
   "cell_type": "code",
   "execution_count": 4,
   "id": "cd55c59b-bc0f-4e77-89c8-55524d4f9ad0",
   "metadata": {},
   "outputs": [],
   "source": [
    "dados[\"Tipo de Usuário\"] = dados[\"Tipo de Usuário\"].astype(\"category\")"
   ]
  },
  {
   "cell_type": "code",
   "execution_count": 5,
   "id": "dba4f5cb-b088-4b8c-985a-2309bef8b311",
   "metadata": {},
   "outputs": [
    {
     "name": "stdout",
     "output_type": "stream",
     "text": [
      "<class 'pandas.core.frame.DataFrame'>\n",
      "RangeIndex: 5 entries, 0 to 4\n",
      "Data columns (total 5 columns):\n",
      " #   Column           Non-Null Count  Dtype   \n",
      "---  ------           --------------  -----   \n",
      " 0   Nome             5 non-null      object  \n",
      " 1   Idade            5 non-null      int64   \n",
      " 2   Tipo de Usuário  5 non-null      category\n",
      " 3   Ticket Médio     5 non-null      float64 \n",
      " 4   Idade da Conta   5 non-null      int64   \n",
      "dtypes: category(1), float64(1), int64(2), object(1)\n",
      "memory usage: 421.0+ bytes\n"
     ]
    }
   ],
   "source": [
    "dados.info()"
   ]
  },
  {
   "cell_type": "code",
   "execution_count": 6,
   "id": "0d4883df-925b-469b-b3ac-8fd4280d86a5",
   "metadata": {},
   "outputs": [
    {
     "data": {
      "text/plain": [
       "0    Premium\n",
       "1       Free\n",
       "2       Free\n",
       "3    Premium\n",
       "4       Free\n",
       "Name: Tipo de Usuário, dtype: category\n",
       "Categories (2, object): ['Free', 'Premium']"
      ]
     },
     "execution_count": 6,
     "metadata": {},
     "output_type": "execute_result"
    }
   ],
   "source": [
    "dados[\"Tipo de Usuário\"]"
   ]
  },
  {
   "cell_type": "code",
   "execution_count": null,
   "id": "797fea1f-9543-48bc-8fc1-80e969bca8bc",
   "metadata": {},
   "outputs": [],
   "source": []
  }
 ],
 "metadata": {
  "kernelspec": {
   "display_name": "Python 3 (ipykernel)",
   "language": "python",
   "name": "python3"
  },
  "language_info": {
   "codemirror_mode": {
    "name": "ipython",
    "version": 3
   },
   "file_extension": ".py",
   "mimetype": "text/x-python",
   "name": "python",
   "nbconvert_exporter": "python",
   "pygments_lexer": "ipython3",
   "version": "3.11.3"
  }
 },
 "nbformat": 4,
 "nbformat_minor": 5
}
